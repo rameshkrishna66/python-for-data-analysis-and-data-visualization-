{
 "cells": [
  {
   "cell_type": "markdown",
   "metadata": {},
   "source": [
    "### Math Overview\n",
    "\\begin{equation}\n",
    "    P(y\\mid x_1,x_2,\\dots,x_n) = \\frac{P(y)P(x_1, \\dots, x_n\\mid y)}{P(x_1, \\dots, x_n)}\n",
    "\\end{equation}\n",
    "\n",
    "since we assume that all the explanatory variables are linearly independent,\n",
    "\\begin{equation}\n",
    "    P(x_1, \\dots, x_n \\mid y) = P(x_i \\mid y)\n",
    "\\end{equation}\n",
    "\n",
    "for all $i$, this relationship is simplified to:\n",
    "\\begin{equation}\n",
    "    P(y \\mid x_1,\\dots,x_n) = \\frac{P(y) \\prod_{i=1}^n {P(x_i \\mid y)}}{P(x_i \\mid y)}\n",
    "\\end{equation}\n",
    "\n",
    "Naive Bayes classifier chooses the highest probability for y,  \n",
    "since denominator $P(x_i \\mid y)$ is common for all $P(y_j)$\n",
    "\\begin{equation}\n",
    "    P(y \\mid x_1,\\dots,x_n) \\propto P(y) \\prod_{i=1}^n {P(x_i \\mid y)} 　\\\\\n",
    "    \\Downarrow   \\\\\n",
    "    \\hat{y}=\\arg\\max_y{P(y)}\\prod_{i=1}^n{P(x_i\\mid y)}\n",
    "\\end{equation}\n"
   ]
  },
  {
   "cell_type": "code",
   "execution_count": 7,
   "metadata": {},
   "outputs": [],
   "source": [
    "import sklearn\n",
    "from sklearn.naive_bayes import GaussianNB\n",
    "from sklearn import datasets"
   ]
  },
  {
   "cell_type": "code",
   "execution_count": 8,
   "metadata": {},
   "outputs": [],
   "source": [
    "iris= datasets.load_iris()\n",
    "X= iris.data\n",
    "Y= iris.target"
   ]
  },
  {
   "cell_type": "code",
   "execution_count": 11,
   "metadata": {},
   "outputs": [],
   "source": [
    "from sklearn.model_selection import train_test_split\n",
    "X_train, X_test,Y_train,Y_test= train_test_split(X,Y)"
   ]
  },
  {
   "cell_type": "code",
   "execution_count": 12,
   "metadata": {
    "collapsed": true
   },
   "outputs": [],
   "source": [
    "model= GaussianNB()\n",
    "model.fit(X_train,Y_train)\n",
    "y_pred= model.predict(X_test)"
   ]
  },
  {
   "cell_type": "code",
   "execution_count": 13,
   "metadata": {},
   "outputs": [
    {
     "data": {
      "text/plain": [
       "0.92105263157894735"
      ]
     },
     "execution_count": 13,
     "metadata": {},
     "output_type": "execute_result"
    }
   ],
   "source": [
    "sklearn.metrics.accuracy_score(Y_test,y_pred)"
   ]
  },
  {
   "cell_type": "code",
   "execution_count": 14,
   "metadata": {},
   "outputs": [
    {
     "data": {
      "text/plain": [
       "array([[13,  0,  0],\n",
       "       [ 0, 11,  1],\n",
       "       [ 0,  2, 11]])"
      ]
     },
     "execution_count": 14,
     "metadata": {},
     "output_type": "execute_result"
    }
   ],
   "source": [
    "sklearn.metrics.confusion_matrix(Y_test,y_pred)"
   ]
  },
  {
   "cell_type": "markdown",
   "metadata": {},
   "source": [
    "### More resources\n",
    "1.) [SciKit Learn Documentation](http://scikit-learn.org/stable/modules/naive_bayes.html)  \n",
    "2.) [Naive Bayes with NLTK](http://slendermeans.org/ml4h-ch3.html)  \n",
    "3.) [Wikipedia on Naive Bayes](http://en.wikipedia.org/wiki/Naive_Bayes_classifier)  \n",
    "4.) [Andrew Ng's Class Notes](http://cs229.stanford.edu/notes/cs229-notes2.pdf)  \n",
    "5.) [Andrew Ng's Video Lecture on Naive Bayes](https://www.youtube.com/watch?v=z5UQyCESW64)  \n",
    "6.) [UC Berkeley Lecture by Pieter Abbeel](https://www.youtube.com/watch?v=DNvwfNEiKvw)"
   ]
  },
  {
   "cell_type": "code",
   "execution_count": null,
   "metadata": {
    "collapsed": true
   },
   "outputs": [],
   "source": []
  }
 ],
 "metadata": {
  "kernelspec": {
   "display_name": "Python 3",
   "language": "python",
   "name": "python3"
  },
  "language_info": {
   "codemirror_mode": {
    "name": "ipython",
    "version": 3
   },
   "file_extension": ".py",
   "mimetype": "text/x-python",
   "name": "python",
   "nbconvert_exporter": "python",
   "pygments_lexer": "ipython3",
   "version": "3.6.0"
  }
 },
 "nbformat": 4,
 "nbformat_minor": 2
}
