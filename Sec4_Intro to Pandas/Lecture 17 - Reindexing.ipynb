{
 "cells": [
  {
   "cell_type": "code",
   "execution_count": 2,
   "metadata": {
    "collapsed": true
   },
   "outputs": [],
   "source": [
    "import numpy as np\n",
    "import pandas as pd\n",
    "from pandas import Series, DataFrame\n",
    "\n",
    "from numpy.random import  randn  # Grab random numbers from normal dist"
   ]
  },
  {
   "cell_type": "code",
   "execution_count": 3,
   "metadata": {},
   "outputs": [
    {
     "data": {
      "text/plain": [
       "A    1\n",
       "B    2\n",
       "C    3\n",
       "D    4\n",
       "dtype: int64"
      ]
     },
     "execution_count": 3,
     "metadata": {},
     "output_type": "execute_result"
    }
   ],
   "source": [
    "ser1 = Series([1,2,3,4], index=[\"A\",\"B\",\"C\",\"D\"])\n",
    "ser1"
   ]
  },
  {
   "cell_type": "code",
   "execution_count": 4,
   "metadata": {},
   "outputs": [
    {
     "data": {
      "text/plain": [
       "A    1.0\n",
       "B    2.0\n",
       "C    3.0\n",
       "D    4.0\n",
       "E    NaN\n",
       "F    NaN\n",
       "dtype: float64"
      ]
     },
     "execution_count": 4,
     "metadata": {},
     "output_type": "execute_result"
    }
   ],
   "source": [
    "ser2=ser1.reindex(['A','B','C','D','E','F'])\n",
    "ser2"
   ]
  },
  {
   "cell_type": "code",
   "execution_count": 6,
   "metadata": {},
   "outputs": [
    {
     "data": {
      "text/plain": [
       "A    1.0\n",
       "B    2.0\n",
       "C    3.0\n",
       "D    4.0\n",
       "E    NaN\n",
       "F    NaN\n",
       "G    0.0\n",
       "dtype: float64"
      ]
     },
     "execution_count": 6,
     "metadata": {},
     "output_type": "execute_result"
    }
   ],
   "source": [
    "ser2.reindex(['A','B','C','D','E','F','G'],fill_value=0) # pass 0 to newly added values, instead of NaN"
   ]
  },
  {
   "cell_type": "code",
   "execution_count": 8,
   "metadata": {},
   "outputs": [
    {
     "data": {
      "text/plain": [
       "0        USA\n",
       "5     Mexico\n",
       "10    Canada\n",
       "dtype: object"
      ]
     },
     "execution_count": 8,
     "metadata": {},
     "output_type": "execute_result"
    }
   ],
   "source": [
    "ser3= Series([\"USA\",\"Mexico\",\"Canada\"], index=[0,5,10])\n",
    "ser3"
   ]
  },
  {
   "cell_type": "code",
   "execution_count": 9,
   "metadata": {},
   "outputs": [
    {
     "data": {
      "text/plain": [
       "range(0, 15)"
      ]
     },
     "execution_count": 9,
     "metadata": {},
     "output_type": "execute_result"
    }
   ],
   "source": [
    "ranger=range(15)\n",
    "ranger"
   ]
  },
  {
   "cell_type": "code",
   "execution_count": 10,
   "metadata": {},
   "outputs": [
    {
     "data": {
      "text/plain": [
       "0        USA\n",
       "1        USA\n",
       "2        USA\n",
       "3        USA\n",
       "4        USA\n",
       "5     Mexico\n",
       "6     Mexico\n",
       "7     Mexico\n",
       "8     Mexico\n",
       "9     Mexico\n",
       "10    Canada\n",
       "11    Canada\n",
       "12    Canada\n",
       "13    Canada\n",
       "14    Canada\n",
       "dtype: object"
      ]
     },
     "execution_count": 10,
     "metadata": {},
     "output_type": "execute_result"
    }
   ],
   "source": [
    "ser3.reindex(ranger,method=\"ffill\")  #forward fill: grab the value of the previous one, instead of NaN"
   ]
  },
  {
   "cell_type": "code",
   "execution_count": 11,
   "metadata": {
    "scrolled": true
   },
   "outputs": [
    {
     "data": {
      "text/html": [
       "<div>\n",
       "<table border=\"1\" class=\"dataframe\">\n",
       "  <thead>\n",
       "    <tr style=\"text-align: right;\">\n",
       "      <th></th>\n",
       "      <th>col1</th>\n",
       "      <th>col2</th>\n",
       "      <th>col3</th>\n",
       "      <th>col4</th>\n",
       "      <th>col5</th>\n",
       "    </tr>\n",
       "  </thead>\n",
       "  <tbody>\n",
       "    <tr>\n",
       "      <th>A</th>\n",
       "      <td>0.557772</td>\n",
       "      <td>1.030584</td>\n",
       "      <td>-0.639372</td>\n",
       "      <td>-0.355554</td>\n",
       "      <td>0.620775</td>\n",
       "    </tr>\n",
       "    <tr>\n",
       "      <th>B</th>\n",
       "      <td>1.515610</td>\n",
       "      <td>-0.176041</td>\n",
       "      <td>0.861189</td>\n",
       "      <td>2.358289</td>\n",
       "      <td>2.063342</td>\n",
       "    </tr>\n",
       "    <tr>\n",
       "      <th>D</th>\n",
       "      <td>-0.915668</td>\n",
       "      <td>0.328592</td>\n",
       "      <td>0.409861</td>\n",
       "      <td>-0.802498</td>\n",
       "      <td>0.679451</td>\n",
       "    </tr>\n",
       "    <tr>\n",
       "      <th>E</th>\n",
       "      <td>-1.284030</td>\n",
       "      <td>0.664216</td>\n",
       "      <td>0.427272</td>\n",
       "      <td>0.769131</td>\n",
       "      <td>0.966932</td>\n",
       "    </tr>\n",
       "    <tr>\n",
       "      <th>F</th>\n",
       "      <td>-0.665835</td>\n",
       "      <td>-0.179681</td>\n",
       "      <td>0.968055</td>\n",
       "      <td>1.085046</td>\n",
       "      <td>0.617666</td>\n",
       "    </tr>\n",
       "  </tbody>\n",
       "</table>\n",
       "</div>"
      ],
      "text/plain": [
       "       col1      col2      col3      col4      col5\n",
       "A  0.557772  1.030584 -0.639372 -0.355554  0.620775\n",
       "B  1.515610 -0.176041  0.861189  2.358289  2.063342\n",
       "D -0.915668  0.328592  0.409861 -0.802498  0.679451\n",
       "E -1.284030  0.664216  0.427272  0.769131  0.966932\n",
       "F -0.665835 -0.179681  0.968055  1.085046  0.617666"
      ]
     },
     "execution_count": 11,
     "metadata": {},
     "output_type": "execute_result"
    }
   ],
   "source": [
    "# reindex raws and/or columns\n",
    "dframe= DataFrame(randn(25).reshape((5,5)),index=['A','B','D','E','F'], columns=['col1','col2','col3','col4','col5'])   # randn(25)-> create 25 random numbers, .reshape((5,5))-> reshape it into 5x5 matrix\n",
    "dframe"
   ]
  },
  {
   "cell_type": "code",
   "execution_count": 12,
   "metadata": {},
   "outputs": [
    {
     "data": {
      "text/html": [
       "<div>\n",
       "<table border=\"1\" class=\"dataframe\">\n",
       "  <thead>\n",
       "    <tr style=\"text-align: right;\">\n",
       "      <th></th>\n",
       "      <th>col1</th>\n",
       "      <th>col2</th>\n",
       "      <th>col3</th>\n",
       "      <th>col4</th>\n",
       "      <th>col5</th>\n",
       "    </tr>\n",
       "  </thead>\n",
       "  <tbody>\n",
       "    <tr>\n",
       "      <th>A</th>\n",
       "      <td>0.557772</td>\n",
       "      <td>1.030584</td>\n",
       "      <td>-0.639372</td>\n",
       "      <td>-0.355554</td>\n",
       "      <td>0.620775</td>\n",
       "    </tr>\n",
       "    <tr>\n",
       "      <th>B</th>\n",
       "      <td>1.515610</td>\n",
       "      <td>-0.176041</td>\n",
       "      <td>0.861189</td>\n",
       "      <td>2.358289</td>\n",
       "      <td>2.063342</td>\n",
       "    </tr>\n",
       "    <tr>\n",
       "      <th>C</th>\n",
       "      <td>NaN</td>\n",
       "      <td>NaN</td>\n",
       "      <td>NaN</td>\n",
       "      <td>NaN</td>\n",
       "      <td>NaN</td>\n",
       "    </tr>\n",
       "    <tr>\n",
       "      <th>D</th>\n",
       "      <td>-0.915668</td>\n",
       "      <td>0.328592</td>\n",
       "      <td>0.409861</td>\n",
       "      <td>-0.802498</td>\n",
       "      <td>0.679451</td>\n",
       "    </tr>\n",
       "    <tr>\n",
       "      <th>E</th>\n",
       "      <td>-1.284030</td>\n",
       "      <td>0.664216</td>\n",
       "      <td>0.427272</td>\n",
       "      <td>0.769131</td>\n",
       "      <td>0.966932</td>\n",
       "    </tr>\n",
       "    <tr>\n",
       "      <th>F</th>\n",
       "      <td>-0.665835</td>\n",
       "      <td>-0.179681</td>\n",
       "      <td>0.968055</td>\n",
       "      <td>1.085046</td>\n",
       "      <td>0.617666</td>\n",
       "    </tr>\n",
       "  </tbody>\n",
       "</table>\n",
       "</div>"
      ],
      "text/plain": [
       "       col1      col2      col3      col4      col5\n",
       "A  0.557772  1.030584 -0.639372 -0.355554  0.620775\n",
       "B  1.515610 -0.176041  0.861189  2.358289  2.063342\n",
       "C       NaN       NaN       NaN       NaN       NaN\n",
       "D -0.915668  0.328592  0.409861 -0.802498  0.679451\n",
       "E -1.284030  0.664216  0.427272  0.769131  0.966932\n",
       "F -0.665835 -0.179681  0.968055  1.085046  0.617666"
      ]
     },
     "execution_count": 12,
     "metadata": {},
     "output_type": "execute_result"
    }
   ],
   "source": [
    "dframe2=dframe.reindex(['A','B','C','D','E','F'])\n",
    "dframe2"
   ]
  },
  {
   "cell_type": "code",
   "execution_count": 15,
   "metadata": {
    "collapsed": true
   },
   "outputs": [],
   "source": [
    "new_columns=['col1','col2','col3','col4','col5','col6']"
   ]
  },
  {
   "cell_type": "code",
   "execution_count": 16,
   "metadata": {},
   "outputs": [
    {
     "data": {
      "text/html": [
       "<div>\n",
       "<table border=\"1\" class=\"dataframe\">\n",
       "  <thead>\n",
       "    <tr style=\"text-align: right;\">\n",
       "      <th></th>\n",
       "      <th>col1</th>\n",
       "      <th>col2</th>\n",
       "      <th>col3</th>\n",
       "      <th>col4</th>\n",
       "      <th>col5</th>\n",
       "      <th>col6</th>\n",
       "    </tr>\n",
       "  </thead>\n",
       "  <tbody>\n",
       "    <tr>\n",
       "      <th>A</th>\n",
       "      <td>0.557772</td>\n",
       "      <td>1.030584</td>\n",
       "      <td>-0.639372</td>\n",
       "      <td>-0.355554</td>\n",
       "      <td>0.620775</td>\n",
       "      <td>NaN</td>\n",
       "    </tr>\n",
       "    <tr>\n",
       "      <th>B</th>\n",
       "      <td>1.515610</td>\n",
       "      <td>-0.176041</td>\n",
       "      <td>0.861189</td>\n",
       "      <td>2.358289</td>\n",
       "      <td>2.063342</td>\n",
       "      <td>NaN</td>\n",
       "    </tr>\n",
       "    <tr>\n",
       "      <th>C</th>\n",
       "      <td>NaN</td>\n",
       "      <td>NaN</td>\n",
       "      <td>NaN</td>\n",
       "      <td>NaN</td>\n",
       "      <td>NaN</td>\n",
       "      <td>NaN</td>\n",
       "    </tr>\n",
       "    <tr>\n",
       "      <th>D</th>\n",
       "      <td>-0.915668</td>\n",
       "      <td>0.328592</td>\n",
       "      <td>0.409861</td>\n",
       "      <td>-0.802498</td>\n",
       "      <td>0.679451</td>\n",
       "      <td>NaN</td>\n",
       "    </tr>\n",
       "    <tr>\n",
       "      <th>E</th>\n",
       "      <td>-1.284030</td>\n",
       "      <td>0.664216</td>\n",
       "      <td>0.427272</td>\n",
       "      <td>0.769131</td>\n",
       "      <td>0.966932</td>\n",
       "      <td>NaN</td>\n",
       "    </tr>\n",
       "    <tr>\n",
       "      <th>F</th>\n",
       "      <td>-0.665835</td>\n",
       "      <td>-0.179681</td>\n",
       "      <td>0.968055</td>\n",
       "      <td>1.085046</td>\n",
       "      <td>0.617666</td>\n",
       "      <td>NaN</td>\n",
       "    </tr>\n",
       "  </tbody>\n",
       "</table>\n",
       "</div>"
      ],
      "text/plain": [
       "       col1      col2      col3      col4      col5  col6\n",
       "A  0.557772  1.030584 -0.639372 -0.355554  0.620775   NaN\n",
       "B  1.515610 -0.176041  0.861189  2.358289  2.063342   NaN\n",
       "C       NaN       NaN       NaN       NaN       NaN   NaN\n",
       "D -0.915668  0.328592  0.409861 -0.802498  0.679451   NaN\n",
       "E -1.284030  0.664216  0.427272  0.769131  0.966932   NaN\n",
       "F -0.665835 -0.179681  0.968055  1.085046  0.617666   NaN"
      ]
     },
     "execution_count": 16,
     "metadata": {},
     "output_type": "execute_result"
    }
   ],
   "source": [
    "dframe2.reindex(columns=new_columns)  # reindex columns"
   ]
  },
  {
   "cell_type": "code",
   "execution_count": 17,
   "metadata": {},
   "outputs": [
    {
     "data": {
      "text/html": [
       "<div>\n",
       "<table border=\"1\" class=\"dataframe\">\n",
       "  <thead>\n",
       "    <tr style=\"text-align: right;\">\n",
       "      <th></th>\n",
       "      <th>col1</th>\n",
       "      <th>col2</th>\n",
       "      <th>col3</th>\n",
       "      <th>col4</th>\n",
       "      <th>col5</th>\n",
       "      <th>col6</th>\n",
       "    </tr>\n",
       "  </thead>\n",
       "  <tbody>\n",
       "    <tr>\n",
       "      <th>A</th>\n",
       "      <td>0.557772</td>\n",
       "      <td>1.030584</td>\n",
       "      <td>-0.639372</td>\n",
       "      <td>-0.355554</td>\n",
       "      <td>0.620775</td>\n",
       "      <td>NaN</td>\n",
       "    </tr>\n",
       "    <tr>\n",
       "      <th>B</th>\n",
       "      <td>1.515610</td>\n",
       "      <td>-0.176041</td>\n",
       "      <td>0.861189</td>\n",
       "      <td>2.358289</td>\n",
       "      <td>2.063342</td>\n",
       "      <td>NaN</td>\n",
       "    </tr>\n",
       "    <tr>\n",
       "      <th>C</th>\n",
       "      <td>NaN</td>\n",
       "      <td>NaN</td>\n",
       "      <td>NaN</td>\n",
       "      <td>NaN</td>\n",
       "      <td>NaN</td>\n",
       "      <td>NaN</td>\n",
       "    </tr>\n",
       "    <tr>\n",
       "      <th>D</th>\n",
       "      <td>-0.915668</td>\n",
       "      <td>0.328592</td>\n",
       "      <td>0.409861</td>\n",
       "      <td>-0.802498</td>\n",
       "      <td>0.679451</td>\n",
       "      <td>NaN</td>\n",
       "    </tr>\n",
       "    <tr>\n",
       "      <th>E</th>\n",
       "      <td>-1.284030</td>\n",
       "      <td>0.664216</td>\n",
       "      <td>0.427272</td>\n",
       "      <td>0.769131</td>\n",
       "      <td>0.966932</td>\n",
       "      <td>NaN</td>\n",
       "    </tr>\n",
       "    <tr>\n",
       "      <th>F</th>\n",
       "      <td>-0.665835</td>\n",
       "      <td>-0.179681</td>\n",
       "      <td>0.968055</td>\n",
       "      <td>1.085046</td>\n",
       "      <td>0.617666</td>\n",
       "      <td>NaN</td>\n",
       "    </tr>\n",
       "  </tbody>\n",
       "</table>\n",
       "</div>"
      ],
      "text/plain": [
       "       col1      col2      col3      col4      col5  col6\n",
       "A  0.557772  1.030584 -0.639372 -0.355554  0.620775   NaN\n",
       "B  1.515610 -0.176041  0.861189  2.358289  2.063342   NaN\n",
       "C       NaN       NaN       NaN       NaN       NaN   NaN\n",
       "D -0.915668  0.328592  0.409861 -0.802498  0.679451   NaN\n",
       "E -1.284030  0.664216  0.427272  0.769131  0.966932   NaN\n",
       "F -0.665835 -0.179681  0.968055  1.085046  0.617666   NaN"
      ]
     },
     "execution_count": 17,
     "metadata": {},
     "output_type": "execute_result"
    }
   ],
   "source": [
    "# You can reindex quickly just by using `.ix`\n",
    "dframe.ix[['A','B','C','D','E','F'],new_columns] # first argument; rows, second; col"
   ]
  },
  {
   "cell_type": "code",
   "execution_count": null,
   "metadata": {
    "collapsed": true
   },
   "outputs": [],
   "source": []
  }
 ],
 "metadata": {
  "kernelspec": {
   "display_name": "Python 3",
   "language": "python",
   "name": "python3"
  },
  "language_info": {
   "codemirror_mode": {
    "name": "ipython",
    "version": 3
   },
   "file_extension": ".py",
   "mimetype": "text/x-python",
   "name": "python",
   "nbconvert_exporter": "python",
   "pygments_lexer": "ipython3",
   "version": "3.6.0"
  }
 },
 "nbformat": 4,
 "nbformat_minor": 2
}
